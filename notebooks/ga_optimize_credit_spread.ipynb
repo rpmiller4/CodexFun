{
  "cells": [
    {
      "cell_type": "code",
      "metadata": {
        "id": "ZtEC5G3yEcNN"
      },
      "source": [
        "import numpy as np\n",
        "import pandas as pd\n",
        "import matplotlib.pyplot as plt\n",
        "import random\n",
        "from deap import base, creator, tools"
      ],
      "execution_count": 1,
      "outputs": [],
      "id": "ZtEC5G3yEcNN"
    },
    {
      "cell_type": "code",
      "source": [
        "# 1️⃣  Start fresh: wipe all nested clones\n",
        "!rm -rf CodexFun\n",
        "\n",
        "# 2️⃣  Clone just once\n",
        "!git clone https://github.com/rpmiller4/CodexFun.git\n",
        "%cd CodexFun\n",
        "\n",
        "# 3️⃣  Make sure THIS folder is first on PYTHONPATH\n",
        "import sys, os, importlib\n",
        "sys.path.insert(0, os.getcwd())    # put ./CodexFun at front\n",
        "\n",
        "# 4️⃣  Import and RELOAD to flush any stale version from memory\n",
        "import synthetic_market as sm\n",
        "importlib.reload(sm)\n",
        "\n",
        "# 5️⃣  Sanity check\n",
        "print(\"run_simulation_multi present? ->\", hasattr(sm, \"run_simulation_multi\"))\n"
      ],
      "metadata": {
        "id": "NwTqjF4tJujj",
        "outputId": "7e3c2815-14bb-447d-dedf-e62c4780f773",
        "colab": {
          "base_uri": "https://localhost:8080/"
        }
      },
      "id": "NwTqjF4tJujj",
      "execution_count": 9,
      "outputs": [
        {
          "output_type": "stream",
          "name": "stdout",
          "text": [
            "Cloning into 'CodexFun'...\n",
            "remote: Enumerating objects: 201, done.\u001b[K\n",
            "remote: Counting objects: 100% (72/72), done.\u001b[K\n",
            "remote: Compressing objects: 100% (72/72), done.\u001b[K\n",
            "remote: Total 201 (delta 30), reused 0 (delta 0), pack-reused 129 (from 1)\u001b[K\n",
            "Receiving objects: 100% (201/201), 102.66 KiB | 3.80 MiB/s, done.\n",
            "Resolving deltas: 100% (99/99), done.\n",
            "/content/CodexFun/CodexFun\n",
            "run_simulation_multi present? -> True\n"
          ]
        }
      ]
    },
    {
      "cell_type": "code",
      "metadata": {
        "id": "lXxNZOMdEcNO",
        "outputId": "0fb09add-070c-45fe-f0eb-74ea5e723531",
        "colab": {
          "base_uri": "https://localhost:8080/"
        }
      },
      "source": [
        "!git clone https://github.com/rpmiller4/CodexFun.git\n",
        "%cd CodexFun\n",
        "\n",
        "import synthetic_market as sm"
      ],
      "execution_count": 11,
      "outputs": [
        {
          "output_type": "stream",
          "name": "stdout",
          "text": [
            "Cloning into 'CodexFun'...\n",
            "remote: Enumerating objects: 201, done.\u001b[K\n",
            "remote: Counting objects: 100% (72/72), done.\u001b[K\n",
            "remote: Compressing objects: 100% (72/72), done.\u001b[K\n",
            "remote: Total 201 (delta 30), reused 0 (delta 0), pack-reused 129 (from 1)\u001b[K\n",
            "Receiving objects: 100% (201/201), 102.66 KiB | 5.70 MiB/s, done.\n",
            "Resolving deltas: 100% (99/99), done.\n",
            "/content/CodexFun/CodexFun/CodexFun/CodexFun\n"
          ]
        }
      ],
      "id": "lXxNZOMdEcNO"
    },
    {
      "cell_type": "code",
      "source": [
        "import synthetic_market as sm"
      ],
      "metadata": {
        "id": "NdpnhdIgFqyW"
      },
      "id": "NdpnhdIgFqyW",
      "execution_count": 12,
      "outputs": []
    },
    {
      "cell_type": "markdown",
      "metadata": {
        "id": "0uwk-8flEcNO"
      },
      "source": [
        "# Genetic Algorithm Optimization of Credit Spreads\n",
        "This notebook searches for the best parameter set for `synthetic_market.run_simulation()` using a genetic algorithm."
      ],
      "id": "0uwk-8flEcNO"
    },
    {
      "cell_type": "markdown",
      "metadata": {
        "id": "-q875WwlEcNP"
      },
      "source": [
        "The genetic algorithm explores a small range of strategy parameters. Fitness is defined as total return minus maximum drawdown."
      ],
      "id": "-q875WwlEcNP"
    },
    {
      "cell_type": "code",
      "metadata": {
        "id": "SAW5EkFUEcNP"
      },
      "source": [
        "SEARCH_BOUNDS = dict(\n",
        "    ema_period =(20, 100), # int\n",
        "    risk_fraction =(0.01, 0.30),# float\n",
        "    short_leg_low =(5, 20), # float (min distance)\n",
        "    short_leg_high =(10, 30), # float (max distance, must ≥ low)\n",
        "    spread_w_low =(1, 5), # int\n",
        "    spread_w_high =(4, 10), # int (≥ low)\n",
        "    trade_credit_ratio=(0.2, 0.5), # float\n",
        ")"
      ],
      "execution_count": 13,
      "outputs": [],
      "id": "SAW5EkFUEcNP"
    },
    {
      "cell_type": "code",
      "source": [
        "REALISM = {\n",
        "    \"slippage\":   True,\n",
        "    \"liquidity\":  True,\n",
        "    \"margin\":     True,\n",
        "    \"jumps\":      True,\n",
        "    # add more when implemented:\n",
        "    # \"iv_pricing\": True,\n",
        "    # \"mtm\":        True,\n",
        "}\n"
      ],
      "metadata": {
        "id": "68FcbvCuIyhf"
      },
      "id": "68FcbvCuIyhf",
      "execution_count": 14,
      "outputs": []
    },
    {
      "cell_type": "code",
      "metadata": {
        "id": "ZWpjIBO4EcNP",
        "outputId": "83f4d024-a9c3-4ff4-e40b-a679f7f0435f",
        "colab": {
          "base_uri": "https://localhost:8080/"
        }
      },
      "source": [
        "random.seed(0)\n",
        "np.random.seed(0)\n",
        "\n",
        "creator.create('FitnessMax', base.Fitness, weights=(1.0,))\n",
        "creator.create('Individual', list, fitness=creator.FitnessMax)\n",
        "\n",
        "def gen_ind():\n",
        "    b = SEARCH_BOUNDS\n",
        "    return creator.Individual([\n",
        "        np.random.randint(b['ema_period'][0], b['ema_period'][1] + 1),\n",
        "        np.random.uniform(*b['risk_fraction']),\n",
        "        np.random.uniform(*b['short_leg_low']),\n",
        "        np.random.uniform(*b['short_leg_high']),\n",
        "        np.random.randint(b['spread_w_low'][0], b['spread_w_low'][1] + 1),\n",
        "        np.random.randint(b['spread_w_high'][0], b['spread_w_high'][1] + 1),\n",
        "        np.random.uniform(*b['trade_credit_ratio']),\n",
        "    ])\n",
        "\n",
        "def mate(i1, i2):\n",
        "    tools.cxOnePoint(i1, i2)\n",
        "    return i1, i2\n",
        "\n",
        "def mutate(ind):\n",
        "    ind[0] = int(np.clip(ind[0] + int(random.gauss(0,5)), *SEARCH_BOUNDS['ema_period']))\n",
        "    ind[1] = float(np.clip(ind[1] + random.gauss(0,0.005), *SEARCH_BOUNDS['risk_fraction']))\n",
        "    ind[2] = float(np.clip(ind[2] + random.gauss(0,1), *SEARCH_BOUNDS['short_leg_low']))\n",
        "    ind[3] = float(np.clip(ind[3] + random.gauss(0,1), *SEARCH_BOUNDS['short_leg_high']))\n",
        "    ind[4] = int(np.clip(ind[4] + int(random.gauss(0,1)), *SEARCH_BOUNDS['spread_w_low']))\n",
        "    ind[5] = int(np.clip(ind[5] + int(random.gauss(0,1)), *SEARCH_BOUNDS['spread_w_high']))\n",
        "    ind[6] = float(np.clip(ind[6] + random.gauss(0,0.02), *SEARCH_BOUNDS['trade_credit_ratio']))\n",
        "    if ind[3] < ind[2]:\n",
        "        ind[3] = ind[2]\n",
        "    if ind[5] < ind[4]:\n",
        "        ind[5] = ind[4]\n",
        "    return (ind,)"
      ],
      "execution_count": 15,
      "outputs": [
        {
          "output_type": "stream",
          "name": "stderr",
          "text": [
            "/usr/local/lib/python3.11/dist-packages/deap/creator.py:185: RuntimeWarning: A class named 'FitnessMax' has already been created and it will be overwritten. Consider deleting previous creation of that class or rename it.\n",
            "  warnings.warn(\"A class named '{0}' has already been created and it \"\n",
            "/usr/local/lib/python3.11/dist-packages/deap/creator.py:185: RuntimeWarning: A class named 'Individual' has already been created and it will be overwritten. Consider deleting previous creation of that class or rename it.\n",
            "  warnings.warn(\"A class named '{0}' has already been created and it \"\n"
          ]
        }
      ],
      "id": "ZWpjIBO4EcNP"
    },
    {
      "cell_type": "code",
      "metadata": {
        "id": "QA459vqREcNQ"
      },
      "source": [
        "def eval_ind(ind):\n",
        "    # Extract genome\n",
        "    short_low,  short_high  = float(ind[2]), float(ind[3])\n",
        "    spread_low, spread_high = int(ind[4]),   int(ind[5])\n",
        "\n",
        "    # Basic validity checks\n",
        "    if short_high <= short_low or spread_high < spread_low:\n",
        "        return (-1e9,)          # penalise invalid individual\n",
        "\n",
        "    # Build strategy config\n",
        "    cfg = {\n",
        "        \"ema_period\":       int(ind[0]),\n",
        "        \"risk_fraction\":    ind[1],\n",
        "        \"short_leg_distance\": (short_low, short_high),\n",
        "        \"spread_width_range\": (spread_low, spread_high),\n",
        "        \"trade_credit_ratio\": ind[6],\n",
        "        \"realism\": REALISM,\n",
        "    }\n",
        "\n",
        "    # Ensemble fitness over 5 seeds\n",
        "    stats  = sm.run_simulation_multi(cfg, seeds=range(5))\n",
        "    score  = stats[\"total_return\"].mean() - stats[\"max_drawdown\"].mean()\n",
        "    return (score,)\n"
      ],
      "execution_count": 16,
      "outputs": [],
      "id": "QA459vqREcNQ"
    },
    {
      "cell_type": "code",
      "metadata": {
        "id": "LypvL9uyEcNQ"
      },
      "source": [
        "toolbox = base.Toolbox()\n",
        "toolbox.register('individual', gen_ind)\n",
        "toolbox.register('population', tools.initRepeat, list, toolbox.individual)\n",
        "toolbox.register('mate', mate)\n",
        "toolbox.register('mutate', mutate)\n",
        "toolbox.register('select', tools.selTournament, tournsize=3)\n",
        "toolbox.register('evaluate', eval_ind)\n",
        "\n",
        "POP = 40\n",
        "GENS = 25\n",
        "CX = 0.5\n",
        "MUT = 0.3\n",
        "\n",
        "pop = toolbox.population(n=POP)\n",
        "best_scores = []\n",
        "\n",
        "for g in range(GENS):\n",
        "    fits = list(map(toolbox.evaluate, pop))\n",
        "    for ind, fit in zip(pop, fits):\n",
        "        ind.fitness.values = fit\n",
        "    best = tools.selBest(pop, 1)[0]\n",
        "    best_scores.append(best.fitness.values[0])\n",
        "\n",
        "    offspring = toolbox.select(pop, len(pop))\n",
        "    offspring = list(map(toolbox.clone, offspring))\n",
        "\n",
        "    for c1, c2 in zip(offspring[::2], offspring[1::2]):\n",
        "        if random.random() < CX:\n",
        "            toolbox.mate(c1, c2)\n",
        "            del c1.fitness.values, c2.fitness.values\n",
        "\n",
        "    for ind in offspring:\n",
        "        if random.random() < MUT:\n",
        "            toolbox.mutate(ind)\n",
        "            del ind.fitness.values\n",
        "\n",
        "    invalid = [ind for ind in offspring if not ind.fitness.valid]\n",
        "    fits = map(toolbox.evaluate, invalid)\n",
        "    for ind, fit in zip(invalid, fits):\n",
        "        ind.fitness.values = fit\n",
        "\n",
        "    pop[:] = offspring\n",
        "\n",
        "champ = tools.selBest(pop, 1)[0]"
      ],
      "execution_count": 17,
      "outputs": [],
      "id": "LypvL9uyEcNQ"
    },
    {
      "cell_type": "code",
      "source": [
        "# 1. Fresh clone or pull\n",
        "!rm -rf CodexFun                 # optional: wipe old copy\n",
        "!git clone https://github.com/rpmiller4/CodexFun.git\n",
        "%cd CodexFun\n",
        "\n",
        "# 2. Make sure this folder is first on PYTHONPATH\n",
        "import sys, os\n",
        "sys.path.insert(0, os.getcwd())\n",
        "\n",
        "# 3. Import and force-reload to pick up the newest functions\n",
        "import importlib, synthetic_market as sm\n",
        "importlib.reload(sm)\n",
        "\n",
        "# 4. Confirm attribute exists\n",
        "print(\"Has run_simulation_multi:\", hasattr(sm, \"run_simulation_multi\"))\n"
      ],
      "metadata": {
        "id": "KYupUBkUFxGZ",
        "outputId": "dccec8d7-f696-4b0c-9a3b-d988af5f4122",
        "colab": {
          "base_uri": "https://localhost:8080/"
        }
      },
      "id": "KYupUBkUFxGZ",
      "execution_count": 18,
      "outputs": [
        {
          "output_type": "stream",
          "name": "stdout",
          "text": [
            "Cloning into 'CodexFun'...\n",
            "remote: Enumerating objects: 201, done.\u001b[K\n",
            "remote: Counting objects: 100% (72/72), done.\u001b[K\n",
            "remote: Compressing objects: 100% (72/72), done.\u001b[K\n",
            "remote: Total 201 (delta 30), reused 0 (delta 0), pack-reused 129 (from 1)\u001b[K\n",
            "Receiving objects: 100% (201/201), 102.66 KiB | 4.46 MiB/s, done.\n",
            "Resolving deltas: 100% (99/99), done.\n",
            "/content/CodexFun/CodexFun/CodexFun/CodexFun/CodexFun\n",
            "Has run_simulation_multi: True\n"
          ]
        }
      ]
    },
    {
      "cell_type": "code",
      "metadata": {
        "id": "27M_GhNyEcNQ",
        "outputId": "c9e65de4-a87b-4b4a-af1c-a891963cc1c5",
        "colab": {
          "base_uri": "https://localhost:8080/",
          "height": 971
        }
      },
      "source": [
        "plt.figure(figsize=(6,4))\n",
        "plt.plot(best_scores, marker='o')\n",
        "plt.xlabel('Generation')\n",
        "plt.ylabel('Best Fitness')\n",
        "plt.title('Best Fitness by Generation')\n",
        "plt.show()\n",
        "\n",
        "champ_cfg = {\n",
        "    \"ema_period\": int(champ[0]),\n",
        "    \"risk_fraction\": champ[1],\n",
        "    \"short_leg_distance\": (champ[2], champ[3]),\n",
        "    \"spread_width_range\": (int(champ[4]), int(champ[5])),\n",
        "    \"trade_credit_ratio\": champ[6],\n",
        "    \"realism\": REALISM,\n",
        "}\n",
        "\n",
        "# --- new lines ---\n",
        "print(\"Win-rate  mean :\", round(results[\"win_rate\"].mean()*100, 1), \"%\")\n",
        "print(\"Win-rate  std  :\", round(results[\"win_rate\"].std()*100, 1), \"%\")\n",
        "\n",
        "print(\"Total-return mean :\", round(results[\"total_return\"].mean()*100, 1), \"%\")\n",
        "print(\"Total-return std  :\", round(results[\"total_return\"].std()*100, 1), \"%\")\n",
        "# -------------------\n",
        "\n",
        "from datetime import datetime\n",
        "start  = datetime.strptime(sm.DEFAULT_CONFIG[\"start_date\"], \"%Y-%m-%d\")\n",
        "end    = datetime.strptime(sm.DEFAULT_CONFIG[\"end_date\"],   \"%Y-%m-%d\")\n",
        "years  = (end - start).days / 365.25          # ≈ 4-year span\n",
        "\n",
        "cagr   = (results[\"total_return\"].mean() + 1) ** (1 / years) - 1\n",
        "print(\"CAGR approx       :\", round(cagr*100, 1), \"%\")\n",
        "\n",
        "\n",
        "\n",
        "results = sm.run_simulation_multi(champ_cfg, seeds=list(range(25)))\n",
        "results['score'] = results['total_return'] - results['max_drawdown']\n",
        "results['score'].hist(figsize=(6,4))\n",
        "plt.title('Distribution of Fitness over Seeds')\n",
        "plt.xlabel('Fitness')\n",
        "plt.ylabel('Frequency')\n",
        "plt.show()\n",
        "\n",
        "print('Champion params:', champ_cfg)\n",
        "print('Score mean:', round(results['score'].mean(), 4))\n",
        "print('Score std:', round(results['score'].std(), 4))"
      ],
      "execution_count": 24,
      "outputs": [
        {
          "output_type": "display_data",
          "data": {
            "text/plain": [
              "<Figure size 600x400 with 1 Axes>"
            ],
            "image/png": "[encoded data removed]"
          },
          "metadata": {}
        },
        {
          "output_type": "stream",
          "name": "stdout",
          "text": [
            "Win-rate  mean : 81.0 %\n",
            "Win-rate  std  : 8.4 %\n",
            "Total-return mean : 995.5 %\n",
            "Total-return std  : 332.7 %\n",
            "CAGR approx       : 82.0 %\n"
          ]
        },
        {
          "output_type": "display_data",
          "data": {
            "text/plain": [
              "<Figure size 600x400 with 1 Axes>"
            ],
            "image/png": "[encoded data removed]"
          },
          "metadata": {}
        },
        {
          "output_type": "stream",
          "name": "stdout",
          "text": [
            "Champion params: {'ema_period': 55, 'risk_fraction': 0.22746721604166117, 'short_leg_distance': (8.569516825804271, 15.95732894816073), 'spread_width_range': (5, 10), 'trade_credit_ratio': 0.5, 'realism': {'slippage': True, 'liquidity': True, 'margin': True, 'jumps': True}}\n",
            "Score mean: 9.6236\n",
            "Score std: 3.4138\n"
          ]
        }
      ],
      "id": "27M_GhNyEcNQ"
    },
    {
      "cell_type": "markdown",
      "metadata": {
        "id": "Sb1UE35GEcNR"
      },
      "source": [
        "## Champion Parameters\n",
        "- `ema_period`: ...\n",
        "- `risk_fraction`: ...\n",
        "- `short_leg_distance`: ...\n",
        "- `spread_width_range`: ...\n",
        "- `trade_credit_ratio`: ..."
      ],
      "id": "Sb1UE35GEcNR"
    },
    {
      "cell_type": "code",
      "source": [],
      "metadata": {
        "id": "8VPGayUOJyR_"
      },
      "id": "8VPGayUOJyR_",
      "execution_count": 19,
      "outputs": []
    }
  ],
  "metadata": {
    "kernelspec": {
      "display_name": "Python 3",
      "language": "python",
      "name": "python3"
    },
    "language_info": {
      "name": "python",
      "pygments_lexer": "ipython3"
    },
    "colab": {
      "provenance": []
    }
  },
  "nbformat": 4,
  "nbformat_minor": 5
}